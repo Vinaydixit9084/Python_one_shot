{
 "cells": [
  {
   "cell_type": "markdown",
   "id": "442303c7-7c00-45b3-a115-0a180c80b9dd",
   "metadata": {},
   "source": [
    "Variables in python"
   ]
  },
  {
   "cell_type": "code",
   "execution_count": 1,
   "id": "13880bb2-d1a4-4028-b076-d936f7fc562d",
   "metadata": {},
   "outputs": [
    {
     "name": "stdout",
     "output_type": "stream",
     "text": [
      "1\n"
     ]
    }
   ],
   "source": [
    "a = 1\n",
    "print(a)"
   ]
  },
  {
   "cell_type": "markdown",
   "id": "745d891a-d780-4c47-aeb3-170a96b393c0",
   "metadata": {},
   "source": [
    "Data Types"
   ]
  },
  {
   "cell_type": "code",
   "execution_count": 2,
   "id": "1f7a6aa5-b99b-44d0-8895-66f9f262d746",
   "metadata": {},
   "outputs": [
    {
     "name": "stdout",
     "output_type": "stream",
     "text": [
      "<class 'int'>\n"
     ]
    }
   ],
   "source": [
    "a = 1\n",
    "print(type(a))"
   ]
  },
  {
   "cell_type": "code",
   "execution_count": 3,
   "id": "faaf6f1a-ecf0-40ce-bc26-83ddffb870a2",
   "metadata": {},
   "outputs": [
    {
     "name": "stdout",
     "output_type": "stream",
     "text": [
      "<class 'str'>\n"
     ]
    }
   ],
   "source": [
    "a = \"1\"\n",
    "print(type(a))"
   ]
  },
  {
   "cell_type": "markdown",
   "id": "f60563ad-9a00-4ded-8ef2-8236093b005a",
   "metadata": {},
   "source": [
    "LISTS(Mutubale- can be modified)"
   ]
  },
  {
   "cell_type": "code",
   "execution_count": 5,
   "id": "3de81da6-58d4-4c78-ae0a-80690f81a56b",
   "metadata": {},
   "outputs": [
    {
     "name": "stdout",
     "output_type": "stream",
     "text": [
      "[8, 3.4, [-3, 4], ['apple', 'banana']]\n"
     ]
    }
   ],
   "source": [
    "list1 = [8,3.4,[-3,4], [\"apple\",\"banana\"]]\n",
    "print(list1)"
   ]
  },
  {
   "cell_type": "markdown",
   "id": "d5d1d08f-f9ef-48f8-90c6-3d1e88df4e99",
   "metadata": {},
   "source": [
    "TUPLES(Immutable- can't be changed)"
   ]
  },
  {
   "cell_type": "code",
   "execution_count": 6,
   "id": "1af10911-f35a-497f-be9e-06add7393b9e",
   "metadata": {},
   "outputs": [
    {
     "name": "stdout",
     "output_type": "stream",
     "text": [
      "(('parrot', 'sparrow'), ('Lion', 'Tiger'))\n"
     ]
    }
   ],
   "source": [
    "tuple1 = ((\"parrot\", \"sparrow\"), (\"Lion\",\"Tiger\"))\n",
    "print(tuple1)"
   ]
  },
  {
   "cell_type": "markdown",
   "id": "8bf02626-92a6-4bf1-ac55-014d6c06d3c2",
   "metadata": {},
   "source": [
    "Dictonary"
   ]
  },
  {
   "cell_type": "code",
   "execution_count": 7,
   "id": "18570361-691a-4c7a-a37b-12d640508ff0",
   "metadata": {},
   "outputs": [
    {
     "name": "stdout",
     "output_type": "stream",
     "text": [
      "{'name': 'Sakhsi', 'age': 20, 'can vote': True}\n"
     ]
    }
   ],
   "source": [
    "dict1 = {\"name\": \"Sakhsi\", \"age\":20, \"can vote\": True}\n",
    "print(dict1)"
   ]
  },
  {
   "cell_type": "markdown",
   "id": "adeca44e-794b-49b9-bfd8-a66328c3eb70",
   "metadata": {},
   "source": [
    "OPERATORS"
   ]
  },
  {
   "cell_type": "code",
   "execution_count": 8,
   "id": "6b9db8fe-28a1-4ed2-810f-09d03a320b7a",
   "metadata": {},
   "outputs": [
    {
     "name": "stdout",
     "output_type": "stream",
     "text": [
      "11\n"
     ]
    }
   ],
   "source": [
    "# + operator\n",
    "\n",
    "a = 5\n",
    "b = 6\n",
    "sum = a+b\n",
    "print(sum)"
   ]
  },
  {
   "cell_type": "code",
   "execution_count": 9,
   "id": "56a68940-0af6-4862-8557-9f97ce9e3d64",
   "metadata": {},
   "outputs": [
    {
     "name": "stdout",
     "output_type": "stream",
     "text": [
      "6\n"
     ]
    }
   ],
   "source": [
    "# - operator\n",
    "\n",
    "a = 10\n",
    "b = 4\n",
    "sub = a-b\n",
    "print(sub)"
   ]
  },
  {
   "cell_type": "code",
   "execution_count": 10,
   "id": "19c04f15-b4d0-4579-8a0d-90061daa212b",
   "metadata": {},
   "outputs": [
    {
     "name": "stdout",
     "output_type": "stream",
     "text": [
      "45\n"
     ]
    }
   ],
   "source": [
    "# * operator\n",
    "\n",
    "a = 9\n",
    "b = 5\n",
    "mul = a*b\n",
    "print(mul)"
   ]
  },
  {
   "cell_type": "code",
   "execution_count": null,
   "id": "4a7df52d-d662-4951-a830-487ba52e6bb9",
   "metadata": {},
   "outputs": [],
   "source": []
  }
 ],
 "metadata": {
  "kernelspec": {
   "display_name": "Python 3 (ipykernel)",
   "language": "python",
   "name": "python3"
  },
  "language_info": {
   "codemirror_mode": {
    "name": "ipython",
    "version": 3
   },
   "file_extension": ".py",
   "mimetype": "text/x-python",
   "name": "python",
   "nbconvert_exporter": "python",
   "pygments_lexer": "ipython3",
   "version": "3.12.4"
  }
 },
 "nbformat": 4,
 "nbformat_minor": 5
}
